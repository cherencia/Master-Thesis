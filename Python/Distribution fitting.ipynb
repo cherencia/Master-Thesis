{
 "cells": [
  {
   "cell_type": "code",
   "execution_count": 2,
   "metadata": {},
   "outputs": [],
   "source": [
    "import matplotlib.pyplot as plt\n",
    "import numpy as np\n",
    "import scipy\n",
    "import scipy.stats\n",
    "import pandas as pd\n",
    "import seaborn as sns\n"
   ]
  },
  {
   "cell_type": "code",
   "execution_count": 3,
   "metadata": {},
   "outputs": [
    {
     "data": {
      "text/html": [
       "<div>\n",
       "<style scoped>\n",
       "    .dataframe tbody tr th:only-of-type {\n",
       "        vertical-align: middle;\n",
       "    }\n",
       "\n",
       "    .dataframe tbody tr th {\n",
       "        vertical-align: top;\n",
       "    }\n",
       "\n",
       "    .dataframe thead th {\n",
       "        text-align: right;\n",
       "    }\n",
       "</style>\n",
       "<table border=\"1\" class=\"dataframe\">\n",
       "  <thead>\n",
       "    <tr style=\"text-align: right;\">\n",
       "      <th></th>\n",
       "      <th>attr_label_str</th>\n",
       "      <th>CAMPAIGN_CLICKS</th>\n",
       "      <th>CAMPAIGN_LOAD</th>\n",
       "      <th>CAMPAIGN_IMPRESSIONS</th>\n",
       "    </tr>\n",
       "  </thead>\n",
       "  <tbody>\n",
       "    <tr>\n",
       "      <th>0</th>\n",
       "      <td>Test_one_shop_detail_HW</td>\n",
       "      <td>2</td>\n",
       "      <td>2</td>\n",
       "      <td>2</td>\n",
       "    </tr>\n",
       "    <tr>\n",
       "      <th>1</th>\n",
       "      <td>Upsell_tariff change_29.04</td>\n",
       "      <td>4171</td>\n",
       "      <td>12355</td>\n",
       "      <td>12355</td>\n",
       "    </tr>\n",
       "    <tr>\n",
       "      <th>2</th>\n",
       "      <td>20200410_ID_POSTPAID_HF_15GB_PART8</td>\n",
       "      <td>9141</td>\n",
       "      <td>16860</td>\n",
       "      <td>16860</td>\n",
       "    </tr>\n",
       "    <tr>\n",
       "      <th>3</th>\n",
       "      <td>20200618 InLife Agora S5a</td>\n",
       "      <td>3521</td>\n",
       "      <td>39521</td>\n",
       "      <td>39521</td>\n",
       "    </tr>\n",
       "    <tr>\n",
       "      <th>4</th>\n",
       "      <td>Easy Internet</td>\n",
       "      <td>0</td>\n",
       "      <td>0</td>\n",
       "      <td>10</td>\n",
       "    </tr>\n",
       "  </tbody>\n",
       "</table>\n",
       "</div>"
      ],
      "text/plain": [
       "                       attr_label_str  CAMPAIGN_CLICKS  CAMPAIGN_LOAD  \\\n",
       "0             Test_one_shop_detail_HW                2              2   \n",
       "1          Upsell_tariff change_29.04             4171          12355   \n",
       "2  20200410_ID_POSTPAID_HF_15GB_PART8             9141          16860   \n",
       "3           20200618 InLife Agora S5a             3521          39521   \n",
       "4                       Easy Internet                0              0   \n",
       "\n",
       "   CAMPAIGN_IMPRESSIONS  \n",
       "0                     2  \n",
       "1                 12355  \n",
       "2                 16860  \n",
       "3                 39521  \n",
       "4                    10  "
      ]
     },
     "execution_count": 3,
     "metadata": {},
     "output_type": "execute_result"
    }
   ],
   "source": [
    "df = pd.read_csv(r'CTR campaigns.csv')\n",
    "df.head()"
   ]
  },
  {
   "cell_type": "code",
   "execution_count": 4,
   "metadata": {},
   "outputs": [
    {
     "data": {
      "text/html": [
       "<div>\n",
       "<style scoped>\n",
       "    .dataframe tbody tr th:only-of-type {\n",
       "        vertical-align: middle;\n",
       "    }\n",
       "\n",
       "    .dataframe tbody tr th {\n",
       "        vertical-align: top;\n",
       "    }\n",
       "\n",
       "    .dataframe thead th {\n",
       "        text-align: right;\n",
       "    }\n",
       "</style>\n",
       "<table border=\"1\" class=\"dataframe\">\n",
       "  <thead>\n",
       "    <tr style=\"text-align: right;\">\n",
       "      <th></th>\n",
       "      <th>attr_label_str</th>\n",
       "      <th>CAMPAIGN_CLICKS</th>\n",
       "      <th>CAMPAIGN_LOAD</th>\n",
       "      <th>CAMPAIGN_IMPRESSIONS</th>\n",
       "    </tr>\n",
       "  </thead>\n",
       "  <tbody>\n",
       "    <tr>\n",
       "      <th>1</th>\n",
       "      <td>Upsell_tariff change_29.04</td>\n",
       "      <td>4171</td>\n",
       "      <td>12355</td>\n",
       "      <td>12355</td>\n",
       "    </tr>\n",
       "    <tr>\n",
       "      <th>2</th>\n",
       "      <td>20200410_ID_POSTPAID_HF_15GB_PART8</td>\n",
       "      <td>9141</td>\n",
       "      <td>16860</td>\n",
       "      <td>16860</td>\n",
       "    </tr>\n",
       "    <tr>\n",
       "      <th>3</th>\n",
       "      <td>20200618 InLife Agora S5a</td>\n",
       "      <td>3521</td>\n",
       "      <td>39521</td>\n",
       "      <td>39521</td>\n",
       "    </tr>\n",
       "    <tr>\n",
       "      <th>7</th>\n",
       "      <td>5.3_PRP Trodnevni flat</td>\n",
       "      <td>6279</td>\n",
       "      <td>23786</td>\n",
       "      <td>23786</td>\n",
       "    </tr>\n",
       "    <tr>\n",
       "      <th>8</th>\n",
       "      <td>NCP_iPhone_06.11.</td>\n",
       "      <td>1399</td>\n",
       "      <td>11540</td>\n",
       "      <td>11540</td>\n",
       "    </tr>\n",
       "    <tr>\n",
       "      <th>...</th>\n",
       "      <td>...</td>\n",
       "      <td>...</td>\n",
       "      <td>...</td>\n",
       "      <td>...</td>\n",
       "    </tr>\n",
       "    <tr>\n",
       "      <th>4582</th>\n",
       "      <td>Tariff change 24/07 ios</td>\n",
       "      <td>1393</td>\n",
       "      <td>12934</td>\n",
       "      <td>12934</td>\n",
       "    </tr>\n",
       "    <tr>\n",
       "      <th>4586</th>\n",
       "      <td>Magenta S no ebill</td>\n",
       "      <td>706</td>\n",
       "      <td>1650</td>\n",
       "      <td>1650</td>\n",
       "    </tr>\n",
       "    <tr>\n",
       "      <th>4589</th>\n",
       "      <td>Radovi_18.05.</td>\n",
       "      <td>558</td>\n",
       "      <td>4883</td>\n",
       "      <td>4883</td>\n",
       "    </tr>\n",
       "    <tr>\n",
       "      <th>4597</th>\n",
       "      <td>MaxTV 22/04</td>\n",
       "      <td>104</td>\n",
       "      <td>5085</td>\n",
       "      <td>5085</td>\n",
       "    </tr>\n",
       "    <tr>\n",
       "      <th>4606</th>\n",
       "      <td>MaxTV 25/04</td>\n",
       "      <td>86</td>\n",
       "      <td>3314</td>\n",
       "      <td>3314</td>\n",
       "    </tr>\n",
       "  </tbody>\n",
       "</table>\n",
       "<p>2055 rows × 4 columns</p>\n",
       "</div>"
      ],
      "text/plain": [
       "                          attr_label_str  CAMPAIGN_CLICKS  CAMPAIGN_LOAD  \\\n",
       "1             Upsell_tariff change_29.04             4171          12355   \n",
       "2     20200410_ID_POSTPAID_HF_15GB_PART8             9141          16860   \n",
       "3              20200618 InLife Agora S5a             3521          39521   \n",
       "7                 5.3_PRP Trodnevni flat             6279          23786   \n",
       "8                      NCP_iPhone_06.11.             1399          11540   \n",
       "...                                  ...              ...            ...   \n",
       "4582             Tariff change 24/07 ios             1393          12934   \n",
       "4586                  Magenta S no ebill              706           1650   \n",
       "4589                       Radovi_18.05.              558           4883   \n",
       "4597                         MaxTV 22/04              104           5085   \n",
       "4606                         MaxTV 25/04               86           3314   \n",
       "\n",
       "      CAMPAIGN_IMPRESSIONS  \n",
       "1                    12355  \n",
       "2                    16860  \n",
       "3                    39521  \n",
       "7                    23786  \n",
       "8                    11540  \n",
       "...                    ...  \n",
       "4582                 12934  \n",
       "4586                  1650  \n",
       "4589                  4883  \n",
       "4597                  5085  \n",
       "4606                  3314  \n",
       "\n",
       "[2055 rows x 4 columns]"
      ]
     },
     "execution_count": 4,
     "metadata": {},
     "output_type": "execute_result"
    }
   ],
   "source": [
    "df = df[(df.CAMPAIGN_IMPRESSIONS >= 1000)]\n",
    "df = df[(df.CAMPAIGN_IMPRESSIONS >= df.CAMPAIGN_CLICKS)]\n",
    "df"
   ]
  },
  {
   "cell_type": "code",
   "execution_count": 5,
   "metadata": {},
   "outputs": [
    {
     "data": {
      "text/html": [
       "<div>\n",
       "<style scoped>\n",
       "    .dataframe tbody tr th:only-of-type {\n",
       "        vertical-align: middle;\n",
       "    }\n",
       "\n",
       "    .dataframe tbody tr th {\n",
       "        vertical-align: top;\n",
       "    }\n",
       "\n",
       "    .dataframe thead th {\n",
       "        text-align: right;\n",
       "    }\n",
       "</style>\n",
       "<table border=\"1\" class=\"dataframe\">\n",
       "  <thead>\n",
       "    <tr style=\"text-align: right;\">\n",
       "      <th></th>\n",
       "      <th>CAMPAIGN_CLICKS</th>\n",
       "      <th>CAMPAIGN_LOAD</th>\n",
       "      <th>CAMPAIGN_IMPRESSIONS</th>\n",
       "      <th>CTR</th>\n",
       "    </tr>\n",
       "  </thead>\n",
       "  <tbody>\n",
       "    <tr>\n",
       "      <th>count</th>\n",
       "      <td>2055.000000</td>\n",
       "      <td>2.055000e+03</td>\n",
       "      <td>2.055000e+03</td>\n",
       "      <td>2055.000000</td>\n",
       "    </tr>\n",
       "    <tr>\n",
       "      <th>mean</th>\n",
       "      <td>10598.110949</td>\n",
       "      <td>6.821522e+04</td>\n",
       "      <td>6.887261e+04</td>\n",
       "      <td>0.220910</td>\n",
       "    </tr>\n",
       "    <tr>\n",
       "      <th>std</th>\n",
       "      <td>28022.032682</td>\n",
       "      <td>1.698777e+05</td>\n",
       "      <td>1.700436e+05</td>\n",
       "      <td>0.195486</td>\n",
       "    </tr>\n",
       "    <tr>\n",
       "      <th>min</th>\n",
       "      <td>0.000000</td>\n",
       "      <td>0.000000e+00</td>\n",
       "      <td>1.001000e+03</td>\n",
       "      <td>0.000000</td>\n",
       "    </tr>\n",
       "    <tr>\n",
       "      <th>25%</th>\n",
       "      <td>904.000000</td>\n",
       "      <td>7.558000e+03</td>\n",
       "      <td>7.947000e+03</td>\n",
       "      <td>0.074444</td>\n",
       "    </tr>\n",
       "    <tr>\n",
       "      <th>50%</th>\n",
       "      <td>3176.000000</td>\n",
       "      <td>2.008400e+04</td>\n",
       "      <td>2.040800e+04</td>\n",
       "      <td>0.156841</td>\n",
       "    </tr>\n",
       "    <tr>\n",
       "      <th>75%</th>\n",
       "      <td>9942.000000</td>\n",
       "      <td>4.023150e+04</td>\n",
       "      <td>4.042950e+04</td>\n",
       "      <td>0.312913</td>\n",
       "    </tr>\n",
       "    <tr>\n",
       "      <th>max</th>\n",
       "      <td>525541.000000</td>\n",
       "      <td>1.659110e+06</td>\n",
       "      <td>1.659110e+06</td>\n",
       "      <td>0.994862</td>\n",
       "    </tr>\n",
       "  </tbody>\n",
       "</table>\n",
       "</div>"
      ],
      "text/plain": [
       "       CAMPAIGN_CLICKS  CAMPAIGN_LOAD  CAMPAIGN_IMPRESSIONS          CTR\n",
       "count      2055.000000   2.055000e+03          2.055000e+03  2055.000000\n",
       "mean      10598.110949   6.821522e+04          6.887261e+04     0.220910\n",
       "std       28022.032682   1.698777e+05          1.700436e+05     0.195486\n",
       "min           0.000000   0.000000e+00          1.001000e+03     0.000000\n",
       "25%         904.000000   7.558000e+03          7.947000e+03     0.074444\n",
       "50%        3176.000000   2.008400e+04          2.040800e+04     0.156841\n",
       "75%        9942.000000   4.023150e+04          4.042950e+04     0.312913\n",
       "max      525541.000000   1.659110e+06          1.659110e+06     0.994862"
      ]
     },
     "execution_count": 5,
     "metadata": {},
     "output_type": "execute_result"
    }
   ],
   "source": [
    "df['CTR'] = df['CAMPAIGN_CLICKS']/df['CAMPAIGN_IMPRESSIONS']\n",
    "df.describe()"
   ]
  },
  {
   "cell_type": "code",
   "execution_count": 7,
   "metadata": {},
   "outputs": [
    {
     "name": "stderr",
     "output_type": "stream",
     "text": [
      "/Library/Frameworks/Python.framework/Versions/3.9/lib/python3.9/site-packages/scipy/stats/_continuous_distns.py:621: RuntimeWarning: invalid value encountered in sqrt\n",
      "  sk = 2*(b-a)*np.sqrt(a + b + 1) / (a + b + 2) / np.sqrt(a*b)\n"
     ]
    }
   ],
   "source": [
    "data = np.array(df['CTR'])\n",
    "alpha, beta, loc, scale  = scipy.stats.distributions.beta.fit(data)"
   ]
  },
  {
   "cell_type": "code",
   "execution_count": 8,
   "metadata": {},
   "outputs": [
    {
     "data": {
      "text/plain": [
       "0.9809628968249227"
      ]
     },
     "execution_count": 8,
     "metadata": {},
     "output_type": "execute_result"
    }
   ],
   "source": [
    "alpha"
   ]
  },
  {
   "cell_type": "code",
   "execution_count": 9,
   "metadata": {},
   "outputs": [
    {
     "data": {
      "text/plain": [
       "5.318600742609512"
      ]
     },
     "execution_count": 9,
     "metadata": {},
     "output_type": "execute_result"
    }
   ],
   "source": [
    "beta"
   ]
  },
  {
   "cell_type": "code",
   "execution_count": 17,
   "metadata": {},
   "outputs": [],
   "source": [
    "x = np.linspace(0,1, len(data))\n",
    "fitted_data = scipy.stats.distributions.beta.pdf(x, alpha, beta, loc, scale)"
   ]
  },
  {
   "cell_type": "code",
   "execution_count": 23,
   "metadata": {},
   "outputs": [
    {
     "data": {
      "text/plain": [
       "Text(0, 0.5, 'Campaigns')"
      ]
     },
     "execution_count": 23,
     "metadata": {},
     "output_type": "execute_result"
    },
    {
     "data": {
      "image/png": "[encoded data removed]",
      "text/plain": [
       "<Figure size 432x288 with 1 Axes>"
      ]
     },
     "metadata": {
      "needs_background": "light"
     },
     "output_type": "display_data"
    }
   ],
   "source": [
    "# matplotlib histogram\n",
    "plt.hist(data, color = 'blue', edgecolor = 'black',\n",
    "         bins = int(1/0.01))\n",
    "#plt.plot(fitted_data, color = 'red')\n",
    "\n",
    "\n",
    "\n",
    "# seaborn histogram\n",
    "sns.distplot(y, hist=True, kde=False, \n",
    "             bins=int(1/0.01), color = 'blue',\n",
    "             hist_kws={'edgecolor':'black'})\n",
    "# Add labels\n",
    "plt.xlabel('CTR')\n",
    "plt.ylabel('Campaigns')"
   ]
  },
  {
   "cell_type": "code",
   "execution_count": 34,
   "metadata": {},
   "outputs": [
    {
     "name": "stderr",
     "output_type": "stream",
     "text": [
      "/Library/Frameworks/Python.framework/Versions/3.9/lib/python3.9/site-packages/seaborn/distributions.py:2557: FutureWarning: `distplot` is a deprecated function and will be removed in a future version. Please adapt your code to use either `displot` (a figure-level function with similar flexibility) or `histplot` (an axes-level function for histograms).\n",
      "  warnings.warn(msg, FutureWarning)\n",
      "/Library/Frameworks/Python.framework/Versions/3.9/lib/python3.9/site-packages/scipy/stats/_continuous_distns.py:621: RuntimeWarning: invalid value encountered in sqrt\n",
      "  sk = 2*(b-a)*np.sqrt(a + b + 1) / (a + b + 2) / np.sqrt(a*b)\n"
     ]
    },
    {
     "data": {
      "text/plain": [
       "Text(0, 0.5, 'Density')"
      ]
     },
     "execution_count": 34,
     "metadata": {},
     "output_type": "execute_result"
    },
    {
     "data": {
      "image/png": "[encoded data removed]",
      "text/plain": [
       "<Figure size 432x288 with 1 Axes>"
      ]
     },
     "metadata": {
      "needs_background": "light"
     },
     "output_type": "display_data"
    }
   ],
   "source": [
    "# Density Plot and Histogram of all arrival delays\n",
    "sns.distplot(data, hist=True, kde=False, fit=scipy.stats.beta,\n",
    "             bins=int(1/0.05), color = 'blue', \n",
    "             hist_kws={'edgecolor':'black'})\n",
    "# Add labels\n",
    "plt.xlabel('CTR')\n",
    "plt.ylabel('Density')"
   ]
  }
 ],
 "metadata": {
  "kernelspec": {
   "display_name": "Python 3",
   "language": "python",
   "name": "python3"
  },
  "language_info": {
   "codemirror_mode": {
    "name": "ipython",
    "version": 3
   },
   "file_extension": ".py",
   "mimetype": "text/x-python",
   "name": "python",
   "nbconvert_exporter": "python",
   "pygments_lexer": "ipython3",
   "version": "3.9.1"
  }
 },
 "nbformat": 4,
 "nbformat_minor": 4
}
